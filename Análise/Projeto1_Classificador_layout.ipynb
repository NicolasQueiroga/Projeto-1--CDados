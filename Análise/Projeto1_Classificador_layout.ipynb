{
 "cells": [
  {
   "cell_type": "markdown",
   "metadata": {},
   "source": [
    "# Projeto 1 - Ciência dos Dados"
   ]
  },
  {
   "cell_type": "markdown",
   "metadata": {},
   "source": [
    "Nome: Nicolas Maciel Queiroga\n",
    "\n",
    "Nome: Francisco Pinheiro Janela"
   ]
  },
  {
   "cell_type": "markdown",
   "metadata": {},
   "source": [
    "**Atenção:** Serão permitidos grupos de três pessoas, mas com uma rubrica mais exigente. Grupos deste tamanho precisarão fazer um questionário de avaliação de trabalho em equipe"
   ]
  },
  {
   "cell_type": "markdown",
   "metadata": {},
   "source": [
    "___\n",
    "Carregando algumas bibliotecas:"
   ]
  },
  {
   "cell_type": "code",
   "execution_count": 1,
   "metadata": {},
   "outputs": [],
   "source": [
    "%matplotlib inline\n",
    "import pandas as pd\n",
    "import matplotlib.pyplot as plt\n",
    "import numpy as np\n",
    "import os\n",
    "import re\n",
    "from emoji import UNICODE_EMOJI"
   ]
  },
  {
   "cell_type": "markdown",
   "metadata": {},
   "source": [
    "**Em `filename`, coloque o nome do seu arquivo de dados!**"
   ]
  },
  {
   "cell_type": "code",
   "execution_count": 2,
   "metadata": {
    "scrolled": true
   },
   "outputs": [
    {
     "name": "stdout",
     "output_type": "stream",
     "text": [
      "Encontrei o arquivo Nintendo Switch.xlsx, tudo certo para prosseguir com a prova!\n"
     ]
    }
   ],
   "source": [
    "import os\n",
    "\n",
    "filename = 'Nintendo Switch.xlsx'\n",
    "if filename in os.listdir():\n",
    "    print(f'Encontrei o arquivo {filename}, tudo certo para prosseguir com a prova!')\n",
    "else:\n",
    "    print(f'Não encontrei o arquivo {filename} aqui no diretório {os.getcwd()}, será que você não baixou o arquivo?')"
   ]
  },
  {
   "cell_type": "markdown",
   "metadata": {},
   "source": [
    "Carregando a base de dados com os tweets classificados como relevantes e não relevantes:"
   ]
  },
  {
   "cell_type": "code",
   "execution_count": 3,
   "metadata": {},
   "outputs": [
    {
     "name": "stdout",
     "output_type": "stream",
     "text": [
      "Número de relevantes: 106\n",
      "Número de irrelevantes: 194\n"
     ]
    }
   ],
   "source": [
    "Treinamento = pd.read_excel(filename)\n",
    "\n",
    "# Leitura do número de relevantes e irrelevantes:\n",
    "Treinamento_relevante = Treinamento[Treinamento.Relevância==1]\n",
    "Treinamento_irrelevante = Treinamento[Treinamento.Relevância==0]\n",
    "print('Número de relevantes: {0}\\nNúmero de irrelevantes: {1}'.format(len(Treinamento_relevante),len(Treinamento_irrelevante)))\n",
    "\n",
    "#Treinamento.head()  # debug"
   ]
  },
  {
   "cell_type": "code",
   "execution_count": 4,
   "metadata": {},
   "outputs": [
    {
     "name": "stdout",
     "output_type": "stream",
     "text": [
      "Número de relevantes: 32\n",
      "Número de irrelevantes: 87\n"
     ]
    }
   ],
   "source": [
    "Teste = pd.read_excel(filename, sheet_name = 'Teste')\n",
    "\n",
    "# Leitura do número de relevantes e irrelevantes:\n",
    "Teste_relevante = Teste[Teste.Relevância==1]\n",
    "Teste_irrelevante = Teste[Teste.Relevância==0]\n",
    "print('Número de relevantes: {0}\\nNúmero de irrelevantes: {1}'.format(len(Teste_relevante),len(Teste_irrelevante)))\n",
    "\n",
    "\n",
    "#Teste.head(5)  # debug"
   ]
  },
  {
   "cell_type": "markdown",
   "metadata": {},
   "source": [
    "___\n",
    "## Classificador automático de sentimento\n"
   ]
  },
  {
   "cell_type": "markdown",
   "metadata": {},
   "source": [
    "### Descrição do Produto:\n",
    "\n",
    "O produto escolhido foi um console de videogames lançado em Março de 2017, que propôs uma integração entre console fixo e portátil, o primeiro do mercado em sua categoria.\n",
    "\n",
    "### Decisão para classificação:\n",
    "\n",
    "Para classificar os tweets nas categorias de **relevante** e **irrelevante**, escolhemos para relevantes posts que mostrassem sentimentos do usuário, reclamações e elogio sobre o produto. Tudo que fala sobre lançamentos, patch ou sobre outros consoles foi classificado como irrelevante."
   ]
  },
  {
   "cell_type": "markdown",
   "metadata": {},
   "source": [
    "___\n",
    "### Montando um Classificador Naive-Bayes\n",
    "\n",
    "#### 1) Categorizando:\n",
    "\n",
    "Primeiramente, os números 1 e 0 serão substituídos por suas categorias de relevante e irrelevante, respectivamente:"
   ]
  },
  {
   "cell_type": "code",
   "execution_count": 5,
   "metadata": {},
   "outputs": [],
   "source": [
    "# Transformando a classe de Relevância em categorias:\n",
    "Treinamento['Relevância'] = Treinamento['Relevância'].astype('category')\n",
    "Teste['Relevância'] = Teste['Relevância'].astype('category')\n",
    "\n",
    "# Trocando os valores pelas categorias correspondentes:\n",
    "Treinamento.Relevância.cat.categories = ['Irrelevante','Relevante']\n",
    "Teste.Relevância.cat.categories = ['Irrelevante','Relevante']\n",
    "\n",
    "\n",
    "#Treinamento.head()  #debug"
   ]
  },
  {
   "cell_type": "markdown",
   "metadata": {},
   "source": [
    "#### 2) Limpeza dos tweets:\n",
    "\n",
    "Em seguida, vamos fazer uma limpeza no nosso excel, excluíndo sinais de pontuação e corrigindo espaços dos emojis:"
   ]
  },
  {
   "cell_type": "code",
   "execution_count": 6,
   "metadata": {},
   "outputs": [],
   "source": [
    "#================================================== Limpando caracteres =======================================================\n",
    "\n",
    "def limpeza(texto):\n",
    "    pontuacao = '[!,)\"(\\-/.\\n:?;]'\n",
    "    pattern = re.compile(pontuacao)\n",
    "    texto_limpo = re.sub(pattern, ' ', texto)\n",
    "    return texto_limpo\n",
    "\n",
    "#============================================== Arrumando espaços e emojis ====================================================\n",
    "\n",
    "def is_emoji(emoji):\n",
    "    return emoji in UNICODE_EMOJI\n",
    "\n",
    "def add_espaco(texto):\n",
    "    return ''.join(' ' + char if is_emoji(char) else char for char in texto).strip()\n",
    "\n",
    "\n",
    "#------------------------------------------------ Aplicando nos dataframes ----------------------------------------------------\n",
    "# Para o Treinamento:\n",
    "resultado = [limpeza(texto) for texto in Treinamento.Treinamento]    # Aplicando a limpeza de caracteres\n",
    "Treinamento.Treinamento = resultado\n",
    "resultado = [add_espaco(texto) for texto in Treinamento.Treinamento] # Aplicando espaçamento entre emojis\n",
    "Treinamento.Treinamento = resultado\n",
    "\n",
    "\n",
    "# Para o Teste:\n",
    "resultado = [limpeza(texto) for texto in Teste.Teste]    # Aplicando a limpeza de caracteres\n",
    "Teste.Teste = resultado\n",
    "resultado = [add_espaco(texto) for texto in Teste.Teste] # Aplicando espaçamento entre emojis\n",
    "Teste.Teste = resultado\n",
    "\n",
    "\n",
    "#Treinamento.head()  # debug"
   ]
  },
  {
   "cell_type": "markdown",
   "metadata": {},
   "source": [
    "#### 3) Contagem de palavras:\n",
    "\n",
    "Para fazer a probabilidade de ocorrência, vamos calcular as ocorrências absolutas das palavras:"
   ]
  },
  {
   "cell_type": "code",
   "execution_count": 7,
   "metadata": {},
   "outputs": [],
   "source": [
    "#==================================================== Frases em Lista =========================================================\n",
    "## Listas gerais:\n",
    "Lista_Treinamento = list(Treinamento.Treinamento)\n",
    "Lista_Teste = list(Teste.Teste)\n",
    "\n",
    "\n",
    "## Listas de relevância para Treinamento:\n",
    "# Lista Relevante:\n",
    "filtro_relevante = Treinamento.loc[Treinamento.Relevância == 'Relevante',:]\n",
    "Lista_Treinamento_Relevante = list(filtro_relevante.Treinamento)\n",
    "\n",
    "# Lista Irrelevante:\n",
    "filtro_irrelevante = Treinamento.loc[Treinamento.Relevância == 'Irrelevante',:]\n",
    "Lista_Treinamento_Irrelevante = list(filtro_irrelevante.Treinamento)\n",
    "\n",
    "\n",
    "#print(Lista_Treinamento_Relevante)  # debug\n",
    "\n",
    "\n",
    "#================================================= Separando por Palavra ======================================================\n",
    "## Função para separar:\n",
    "def por_palavra(LISTA):\n",
    "    lista_palavras = []\n",
    "    for linha in LISTA:\n",
    "        nova_linha = linha.split()\n",
    "        for palavra in nova_linha:\n",
    "            lista_palavras.append(palavra)\n",
    "    return lista_palavras\n",
    "\n",
    "#------------------------------------------------------- Aplicando ------------------------------------------------------------\n",
    "## Listas por palavra:\n",
    "# Listas Gerais:\n",
    "Palavras_Treinamento = por_palavra(Lista_Treinamento)\n",
    "Palavras_Teste = por_palavra(Lista_Teste)\n",
    "\n",
    "## Listas de relevância para Treinamento:\n",
    "Palavras_Treinamento_Relevante = por_palavra(Lista_Treinamento_Relevante)\n",
    "Palavras_Treinamento_Irrelevante = por_palavra(Lista_Treinamento_Irrelevante)\n",
    "\n",
    "\n",
    "#print(Palavras_Treinamento_Irrelevante)  # debug\n",
    "\n",
    "\n",
    "#============================================ Guardando palavras sem repetição ================================================\n",
    "## Somente para as Listas Gerais (será usado mais tarde):\n",
    "# Função:\n",
    "def tira_repeticao(LISTA):\n",
    "    sem_repeticao = []\n",
    "    for palavra in LISTA:\n",
    "        if not palavra in sem_repeticao:\n",
    "            sem_repeticao.append(palavra)\n",
    "    return sem_repeticao\n",
    "\n",
    "#------------------------------------------------------- Aplicando ------------------------------------------------------------\n",
    "Palavras_Treinamento_SR = tira_repeticao(Palavras_Treinamento)\n",
    "Palavras_Teste_SR = tira_repeticao(Palavras_Teste)\n",
    "\n",
    "\n",
    "#================================================== Contagem de palavras ======================================================\n",
    "# Gerando as Tabelas Relativa(TR) das listas de palavras:\n",
    "TR_Treinamento = pd.Series(Palavras_Treinamento).value_counts()\n",
    "TR_Treinamento_Relevante = pd.Series(Palavras_Treinamento_Relevante).value_counts()\n",
    "TR_Treinamento_Irrelevante = pd.Series(Palavras_Treinamento_Irrelevante).value_counts()\n",
    "\n",
    "\n",
    "#TR_Treinamento_Irrelevante.head()  # debug"
   ]
  },
  {
   "cell_type": "markdown",
   "metadata": {},
   "source": [
    "#### 4) Probabilidade de ocorrência:\n",
    "\n",
    "Agora, serão criadas as probabilidades de ocorrência das palavras em cada categoria, que serão guardadas em um dicionário onde a chave é a palavra e o item a probabilidade de ocorrência na categoria."
   ]
  },
  {
   "cell_type": "code",
   "execution_count": 8,
   "metadata": {},
   "outputs": [],
   "source": [
    "#=============================================== Probabilidade primária(PP) ===================================================\n",
    "## Probabilidade da mensagem ser relevante ou irrelevante com base no treinamento:\n",
    "PP_Treinamento_Relevante = len(Treinamento_relevante)/len(Treinamento)\n",
    "PP_Treinamento_Irrelevante = len(Treinamento_irrelevante)/len(Treinamento)\n",
    "\n",
    "\n",
    "#===================================== Dicionário de Probabilidade de ocorrência(DP) ==========================================\n",
    "## Aplicando o smothing de Laplace de índice 1:\n",
    "Laplace = 1\n",
    "\n",
    "## Função de cálculo da probabilidade:\n",
    "def probabilidade_ocorrencia(TABELA,PALAVRAS):\n",
    "    \n",
    "    # Transforando a tabela de ocorrências em um dicionário\n",
    "    dicionario_ocorrencias = {}\n",
    "    for palavra, ocorrencia in TABELA.items():\n",
    "        dicionario_ocorrencias[palavra] = ocorrencia\n",
    "       \n",
    "    # Criando o dicionário de probabilidades(DP):\n",
    "    dicionario_probabilidades = {}\n",
    "    for palavra in Palavras_Treinamento_SR:\n",
    "        if palavra in PALAVRAS:\n",
    "            probabilidade = (dicionario_ocorrencias[palavra]+Laplace)/(len(Palavras_Treinamento_SR)+(Laplace*len(TABELA)))\n",
    "            dicionario_probabilidades[palavra] = probabilidade\n",
    "        else:\n",
    "            probabilidade = Laplace/(len(Palavras_Treinamento_SR)+(Laplace*len(TABELA)))\n",
    "            dicionario_probabilidades[palavra] = probabilidade\n",
    "    return dicionario_probabilidades\n",
    "\n",
    "\n",
    "#------------------------------------------------------- Aplicando ------------------------------------------------------------\n",
    "DP_Treinamento_Relevante = probabilidade_ocorrencia(TR_Treinamento_Relevante, Palavras_Treinamento_Relevante)\n",
    "DP_Treinamento_Irrelevante = probabilidade_ocorrencia(TR_Treinamento_Irrelevante, Palavras_Treinamento_Irrelevante)\n",
    "\n",
    "#print(DP_Treinamento_Relevante)  # debug"
   ]
  },
  {
   "cell_type": "markdown",
   "metadata": {},
   "source": [
    "#### 5) Função do Classificador Naive Bayes:\n",
    "\n",
    "Com o dicionário de probabilidades criado, podemos criar o classificador Naive Bayes para análise dos Tweets:"
   ]
  },
  {
   "cell_type": "code",
   "execution_count": 9,
   "metadata": {},
   "outputs": [],
   "source": [
    "#=============================================== Classificador Naive Bayes ====================================================\n",
    "## O classificador vai receber um Excel com os tweets numa coluna chamada Teste:\n",
    "def classificador_Naive_Bayes(EXCEL):\n",
    "    LISTA = list(EXCEL.Teste)\n",
    "    for tweet in LISTA:\n",
    "        # começa com a probabilidade do tweet ser Relevante ou Irrelevante\n",
    "        probabilidade_relevante = PP_Treinamento_Relevante\n",
    "        probabilidade_irrelevante = PP_Treinamento_Irrelevante\n",
    "        # para a probabilidade de cada palavra do tweet nas categorias e aplicando Laplace:\n",
    "        for palavra in tweet.split():\n",
    "            if palavra in Palavras_Treinamento_SR:\n",
    "                probabilidade_relevante *= DP_Treinamento_Relevante[palavra]\n",
    "                probabilidade_irrelevante *= DP_Treinamento_Irrelevante[palavra]\n",
    "            else:\n",
    "                probabilidade_relevante *= Laplace/(len(Palavras_Treinamento_SR)+(Laplace*len(TR_Treinamento_Relevante)))\n",
    "                probabilidade_irrelevante *= Laplace/(len(Palavras_Treinamento_SR)+(Laplace*len(TR_Treinamento_Irrelevante)))\n",
    "            \n",
    "        if(probabilidade_relevante > probabilidade_irrelevante):\n",
    "            EXCEL.loc[(EXCEL.Teste == tweet), 'Análise'] = 'Relevante'\n",
    "            ## debug\n",
    "            #print('relevante: {0},  irrelevante{1}, RELEVANTE'.format(probabilidade_relevante,probabilidade_irrelevante)) \n",
    "        elif(probabilidade_relevante < probabilidade_irrelevante):\n",
    "            EXCEL.loc[(EXCEL.Teste == tweet), 'Análise'] = 'Irrelevante'\n",
    "            ## debug\n",
    "            #print('relevante: {0},  irrelevante{1}, IRRELEVANTE'.format(probabilidade_relevante,probabilidade_irrelevante))\n",
    "            \n",
    "    return EXCEL"
   ]
  },
  {
   "cell_type": "markdown",
   "metadata": {},
   "source": [
    "___\n",
    "### Verificando a performance do Classificador\n",
    "\n",
    "#### 1) Aplicando o classificador no Teste:\n",
    "\n",
    "Com o classificador montado, vamos aplicar para a planilha de Testes:"
   ]
  },
  {
   "cell_type": "code",
   "execution_count": 12,
   "metadata": {},
   "outputs": [
    {
     "name": "stdout",
     "output_type": "stream",
     "text": [
      "Número de relevantes: 23\n",
      "Número de irrelevantes: 96\n"
     ]
    }
   ],
   "source": [
    "#----------------------------------------------- Aplicando o classificador ----------------------------------------------------\n",
    "\n",
    "Teste_Classificado = classificador_Naive_Bayes(Teste)\n",
    "\n",
    "Teste_relevante = Teste_Classificado[Teste.Análise=='Relevante']\n",
    "Teste_irrelevante = Teste_Classificado[Teste.Análise=='Irrelevante']\n",
    "print('Número de relevantes: {0}\\nNúmero de irrelevantes: {1}'.format(len(Teste_relevante),len(Teste_irrelevante)))\n",
    "\n",
    "#Teste_Classificado  # debug"
   ]
  },
  {
   "cell_type": "markdown",
   "metadata": {},
   "source": [
    "#### 2) Verificando a precisão da classificação:\n",
    "\n",
    "Com a classificação feita, vamos ver aqueles que estão corretamente classificados, colocando nas tags de **Relevante Verdadeiro**, **Relevante Falso**, **Irrelevante Verdadeiro** e **Irrelevante Falso**, ou seja, analisar o desempenho:"
   ]
  },
  {
   "cell_type": "code",
   "execution_count": 22,
   "metadata": {},
   "outputs": [
    {
     "data": {
      "image/png": "[encoded data removed]",
      "text/plain": [
       "<Figure size 432x432 with 1 Axes>"
      ]
     },
     "metadata": {},
     "output_type": "display_data"
    }
   ],
   "source": [
    "#============================================== Validação da Classificação ====================================================\n",
    "## função para validar:\n",
    "def validacao(EXCEL_Classificado):\n",
    "    validado = []\n",
    "    for i in range(len(EXCEL_Classificado)):\n",
    "        verifica = False\n",
    "        if EXCEL_Classificado.Relevância[i] == EXCEL_Classificado.Análise[i]:\n",
    "            verifica = True\n",
    "        validado.append(verifica)\n",
    "    EXCEL_Classificado['Validação'] = validado\n",
    "    return EXCEL_Classificado\n",
    "        \n",
    "    \n",
    "#------------------------------------------------------- Aplicando ------------------------------------------------------------\n",
    "## Validando a classificação:\n",
    "Teste_Validado = validacao(Teste_Classificado)\n",
    "\n",
    "\n",
    "#Teste_Validado  # debug\n",
    "\n",
    "#============================================== Desempenho do Classificador ===================================================\n",
    "## função para mostrar o desempenho e guarda em um Dicinário de Desempenho(DD) com as tags:\n",
    "def desempenho(EXCEL_Validado):\n",
    "    \n",
    "    dicionario_desempenho = {}\n",
    "    Contagem_Relevante_Verdadeiro = 0\n",
    "    Contagem_Irrelevante_Verdadeiro = 0\n",
    "    Contagem_Relevante_Falso = 0\n",
    "    Contagem_Irrelevante_Falso = 0\n",
    "    \n",
    "    for i in range(len(EXCEL_Validado)):\n",
    "        if EXCEL_Validado.Validação[i] == True:\n",
    "            if EXCEL_Validado.Análise[i] == 'Relevante':\n",
    "                Contagem_Relevante_Verdadeiro += 1\n",
    "            else:\n",
    "                Contagem_Irrelevante_Verdadeiro += 1\n",
    "        else:\n",
    "            if EXCEL_Validado.Análise[i] == 'Relevante':\n",
    "                Contagem_Relevante_Falso += 1\n",
    "            else:\n",
    "                Contagem_Irrelevante_Falso += 1\n",
    "    \n",
    "    Porcentagem_RV = Contagem_Relevante_Verdadeiro/len(EXCEL_Validado)\n",
    "    Porcentagem_IV = Contagem_Irrelevante_Verdadeiro/len(EXCEL_Validado)\n",
    "    Porcentagem_RF = Contagem_Relevante_Falso/len(EXCEL_Validado)\n",
    "    Porcentagem_IF = Contagem_Irrelevante_Falso/len(EXCEL_Validado)\n",
    "    \n",
    "    dicionario_desempenho['Relevante Verdadeiro'] = Porcentagem_RV\n",
    "    dicionario_desempenho['Irrelevante Verdadeiro'] = Porcentagem_IV\n",
    "    dicionario_desempenho['Relevante Falso'] = Porcentagem_RF\n",
    "    dicionario_desempenho['Irrelevante Falso'] = Porcentagem_IF\n",
    "    \n",
    "    return dicionario_desempenho\n",
    "            \n",
    "\n",
    "#------------------------------------------------------- Aplicando ------------------------------------------------------------\n",
    "## aplicando a função para gerar o desempenho do classificador baseado no Teste:\n",
    "DD_Teste = desempenho(Teste_Validado)\n",
    "\n",
    "\n",
    "#print(DD_Teste)  # debug\n",
    "\n",
    "\n",
    "#----------------------------------------------------- Em um gráfico ----------------------------------------------------------\n",
    "## função para plotar o gráfico: \n",
    "def DD_grafico(DD):\n",
    "    # processando a informação do gráfico\n",
    "    labels = 'Relevante Verdadeiro', \"Irrelevante Verdadeiro\", \"Relevante Falso\", 'Irrelevante Falso'\n",
    "    sizes = [DD['Relevante Verdadeiro'], DD[\"Irrelevante Verdadeiro\"], DD[\"Relevante Falso\"], DD['Irrelevante Falso']]\n",
    "    colors = ['gold', 'yellowgreen', 'lightcoral', 'lightskyblue']\n",
    "    \n",
    "    # plotando o gráfico\n",
    "    plt.figure(figsize=[6,6])\n",
    "    plt.pie(sizes, explode=(0.1, 0.1, 0.1, 0.1), labels=labels, colors=colors,\n",
    "    autopct='%1.1f%%', shadow=True, startangle=140)\n",
    "    plt.axis('equal')\n",
    "    plt.title(\"Porcentagem de Verdadeiros e Falsos\\n\")\n",
    "    plt.show()\n",
    "    \n",
    "## Gerando o gráfico para nosso Dicionário de Desempenho:\n",
    "DD_grafico(DD_Teste)"
   ]
  },
  {
   "cell_type": "markdown",
   "metadata": {},
   "source": [
    "___\n",
    "### Concluindo\n",
    "\n",
    "Baseado no gráfico acima, os resultados obtidos pelo classificador são satisfatórios para sua primeira iteração. Ele avaliou corretamente 79% dos tweets da planilha de teste. Para questões semânticas, como duplas negações e sarcasmos, o classificador não as leva em consideração, por se basear em análise quantitativa de palavras, sendo uma das melhorias que poderiam ser aplicadas ao classificador para realizar sua decisão. A empresa deve continuar investindo em nosso serviço, pois é possível iterar o classificador e produzir análises mais coerentes com a realidade da relevância dos tweets, sendo uma questão de tempo até que o indice de acerto melhore consideravelmente e assegure as necessidades de classificação.\n",
    "\n",
    "#### 1) Outras Limpezas e Transformações:\n",
    "\n",
    "Para alcançar esse ideal de classificador exigido pelas empresas, seriam necessárias outras limpezas e transformações ao Dataframe de Tweets. Essas limpezas produzem uma base para classificação mais acertiva, pois enibem vieses que levam a uma má classificação. Entre essas limpezas e transformações estão:\n",
    "\n",
    "- Excluir Stop Words, como preposições, conjunções e artigos;\n",
    "- Transformar verbos para o infinitivo e substantivos e adjetivos para o singular;\n",
    "- Excluir links e anexos;\n",
    "- Excluir tags de 'rt' e @ de usuários;\n",
    "- Interpretar linguagens de sentimento, como 'kkkkkkk' = 'hahahahahaha' = risada;\n",
    "- Corrigir vícios de abreviação da escrita online, como 'vc' = você, 'mds' = meu Deus.\n",
    "\n",
    "#### 2) O Classificador não serve para aumentar a base de Treinamento:\n",
    "\n",
    "O Classificador de Naive Bayes não deve ser usado para ampliar a base de treinamento, uma vez que ao fazer crescer essa base criará um vício de classificação que não permitirá que Tweets mais recentes que sejam relevantes mas não classificados antes como tal sejam recebidos pela empresa e rapidamente rejeitados. Esse viés na ampliação da base de treinamento deixa ela maior, porém não mais completa, pois não comporta outros estilos de comentários relevantes.\n",
    "\n",
    "#### 3) Outros cenários para aplicação de Naive Bayes:\n",
    "\n",
    "O sistema para classificação de textos é muito importante e usado para analisar Spam. Essa análise é feita em e-mails, posts e comentários das redes sociais para tornar a experiência do usuário mais agradável, não incomodando-o com coisas que não são de seu interesse.\n",
    "\n",
    "Serve também para criar um feed de informação que seja coerente com as pesquisas e preferências do usuário, pois têm um padrão sendo necessário treinar o classificador para poder aplicar o filtro desejado.\n",
    "\n",
    "Em geral, Naive Bayes pode ser utilizado para qualquer tipo de Data Mining desejado por seu criador ou pedido por seu usuário, sendo somente necessária uma base de treinamento para o Classificador."
   ]
  },
  {
   "cell_type": "markdown",
   "metadata": {},
   "source": [
    "___\n",
    "## Aperfeiçoamento:\n",
    "\n",
    "Os trabalhos vão evoluir em conceito dependendo da quantidade de itens avançados:\n",
    "\n",
    "* Limpar: \\n, :, \", ', (, ), etc SEM remover emojis\n",
    "* Corrigir separação de espaços entre palavras e emojis ou entre emojis e emojis\n",
    "* Propor outras limpezas e transformações que não afetem a qualidade da informação ou classificação\n",
    "* Criar categorias intermediárias de relevância baseadas na probabilidade: ex.: muito relevante, relevante, neutro, irrelevante, muito irrelevante (3 categorias: C, mais categorias conta para B)\n",
    "* Explicar por que não posso usar o próprio classificador para gerar mais amostras de treinamento\n",
    "* Propor diferentes cenários para Naïve Bayes fora do contexto do projeto\n",
    "* Sugerir e explicar melhorias reais com indicações concretas de como implementar (indicar como fazer e indicar material de pesquisa)\n",
    "* Montar um dashboard que realiza análise de sentimento e visualiza estes dados"
   ]
  },
  {
   "cell_type": "markdown",
   "metadata": {},
   "source": [
    "___\n",
    "## Referências"
   ]
  },
  {
   "cell_type": "markdown",
   "metadata": {},
   "source": [
    "[Naive Bayes and Text Classification](https://arxiv.org/pdf/1410.5329.pdf)  **Mais completo**\n",
    "\n",
    "[A practical explanation of a Naive Bayes Classifier](https://monkeylearn.com/blog/practical-explanation-naive-bayes-classifier/) **Mais simples**"
   ]
  },
  {
   "cell_type": "code",
   "execution_count": null,
   "metadata": {},
   "outputs": [],
   "source": []
  }
 ],
 "metadata": {
  "kernelspec": {
   "display_name": "Python 3",
   "language": "python",
   "name": "python3"
  },
  "language_info": {
   "codemirror_mode": {
    "name": "ipython",
    "version": 3
   },
   "file_extension": ".py",
   "mimetype": "text/x-python",
   "name": "python",
   "nbconvert_exporter": "python",
   "pygments_lexer": "ipython3",
   "version": "3.7.4"
  }
 },
 "nbformat": 4,
 "nbformat_minor": 4
}
