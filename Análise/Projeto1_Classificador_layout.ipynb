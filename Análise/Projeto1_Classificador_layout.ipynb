{
 "cells": [
  {
   "cell_type": "markdown",
   "metadata": {},
   "source": [
    "# Projeto 1 - Ciência dos Dados"
   ]
  },
  {
   "cell_type": "markdown",
   "metadata": {},
   "source": [
    "Nome: Nicolas Maciel Queiroga\n",
    "\n",
    "Nome: Francisco Pinheiro Janela"
   ]
  },
  {
   "cell_type": "markdown",
   "metadata": {},
   "source": [
    "**Atenção:** Serão permitidos grupos de três pessoas, mas com uma rubrica mais exigente. Grupos deste tamanho precisarão fazer um questionário de avaliação de trabalho em equipe"
   ]
  },
  {
   "cell_type": "markdown",
   "metadata": {},
   "source": [
    "___\n",
    "Carregando algumas bibliotecas:"
   ]
  },
  {
   "cell_type": "code",
   "execution_count": 14,
   "metadata": {},
   "outputs": [],
   "source": [
    "%matplotlib inline\n",
    "import pandas as pd\n",
    "import matplotlib.pyplot as plt\n",
    "import numpy as np\n",
    "import os\n",
    "import re\n",
    "from emoji import UNICODE_EMOJI"
   ]
  },
  {
   "cell_type": "markdown",
   "metadata": {},
   "source": [
    "**Em `filename`, coloque o nome do seu arquivo de dados!**"
   ]
  },
  {
   "cell_type": "code",
   "execution_count": 15,
   "metadata": {
    "scrolled": true
   },
   "outputs": [
    {
     "name": "stdout",
     "output_type": "stream",
     "text": [
      "Encontrei o arquivo Nintendo Switch.xlsx, tudo certo para prosseguir com a prova!\n"
     ]
    }
   ],
   "source": [
    "import os\n",
    "\n",
    "filename = 'Nintendo Switch.xlsx'\n",
    "if filename in os.listdir():\n",
    "    print(f'Encontrei o arquivo {filename}, tudo certo para prosseguir com a prova!')\n",
    "else:\n",
    "    print(f'Não encontrei o arquivo {filename} aqui no diretório {os.getcwd()}, será que você não baixou o arquivo?')"
   ]
  },
  {
   "cell_type": "markdown",
   "metadata": {},
   "source": [
    "Carregando a base de dados com os tweets classificados como relevantes e não relevantes:"
   ]
  },
  {
   "cell_type": "code",
   "execution_count": 16,
   "metadata": {},
   "outputs": [
    {
     "name": "stdout",
     "output_type": "stream",
     "text": [
      "Número de relevantes: 106\n",
      "Número de irrelevantes: 194\n"
     ]
    }
   ],
   "source": [
    "Treinamento = pd.read_excel(filename)\n",
    "\n",
    "# Leitura do número de relevantes e irrelevantes:\n",
    "Treinamento_relevante = Treinamento[Treinamento.Relevância==1]\n",
    "Treinamento_irrelevante = Treinamento[Treinamento.Relevância==0]\n",
    "print('Número de relevantes: {0}\\nNúmero de irrelevantes: {1}'.format(len(Treinamento_relevante),len(Treinamento_irrelevante)))\n",
    "\n",
    "#Treinamento.head()  # debug"
   ]
  },
  {
   "cell_type": "code",
   "execution_count": 17,
   "metadata": {},
   "outputs": [
    {
     "name": "stdout",
     "output_type": "stream",
     "text": [
      "Número de relevantes: 32\n",
      "Número de irrelevantes: 87\n"
     ]
    }
   ],
   "source": [
    "Teste = pd.read_excel(filename, sheet_name = 'Teste')\n",
    "\n",
    "# Leitura do número de relevantes e irrelevantes:\n",
    "Teste_relevante = Teste[Teste.Relevância==1]\n",
    "Teste_irrelevante = Teste[Teste.Relevância==0]\n",
    "print('Número de relevantes: {0}\\nNúmero de irrelevantes: {1}'.format(len(Teste_relevante),len(Teste_irrelevante)))\n",
    "\n",
    "\n",
    "#Teste.head(5)  # debug"
   ]
  },
  {
   "cell_type": "markdown",
   "metadata": {},
   "source": [
    "___\n",
    "## Classificador automático de sentimento\n"
   ]
  },
  {
   "cell_type": "markdown",
   "metadata": {},
   "source": [
    "### Descrição do Produto:\n",
    "\n",
    "O produto escolhido foi um console de videogames lançado em Março de 2017, que propôs uma integração entre console fixo e portátil, o primeiro do mercado em sua categoria.\n",
    "\n",
    "### Decisão para classificação:\n",
    "\n",
    "Para classificar os tweets nas categorias de **relevante** e **irrelevante**, escolhemos para relevantes posts que mostrassem sentimentos do usuário, reclamações e elogio sobre o produto. Tudo que fala sobre lançamentos, patch ou sobre outros consoles foi classificado como irrelevante."
   ]
  },
  {
   "cell_type": "markdown",
   "metadata": {},
   "source": [
    "___\n",
    "### Montando um Classificador Naive-Bayes\n",
    "\n",
    "#### 1) Categorizando:\n",
    "\n",
    "Primeiramente, os números 1 e 0 serão substituídos por suas categorias de relevante e irrelevante, respectivamente:"
   ]
  },
  {
   "cell_type": "code",
   "execution_count": 18,
   "metadata": {},
   "outputs": [],
   "source": [
    "# Transformando a classe de Relevância em categorias:\n",
    "Treinamento['Relevância'] = Treinamento['Relevância'].astype('category')\n",
    "Teste['Relevância'] = Teste['Relevância'].astype('category')\n",
    "\n",
    "# Trocando os valores pelas categorias correspondentes:\n",
    "Treinamento.Relevância.cat.categories = ['Irrelevante','Relevante']\n",
    "Teste.Relevância.cat.categories = ['Irrelevante','Relevante']\n",
    "\n",
    "\n",
    "#Treinamento.head()  #debug"
   ]
  },
  {
   "cell_type": "markdown",
   "metadata": {},
   "source": [
    "#### 2) Limpeza dos tweets:\n",
    "\n",
    "Em seguida, vamos fazer uma limpeza no nosso excel, excluíndo sinais de pontuação e corrigindo espaços dos emojis:"
   ]
  },
  {
   "cell_type": "code",
   "execution_count": 19,
   "metadata": {},
   "outputs": [],
   "source": [
    "#================================================== Limpando caracteres =======================================================\n",
    "\n",
    "def limpeza(texto):\n",
    "    pontuacao = '[!,)\"(\\-/.\\n:?;]'\n",
    "    pattern = re.compile(pontuacao)\n",
    "    texto_limpo = re.sub(pattern, ' ', texto)\n",
    "    return texto_limpo\n",
    "\n",
    "#============================================== Arrumando espaços e emojis ====================================================\n",
    "\n",
    "def is_emoji(emoji):\n",
    "    return emoji in UNICODE_EMOJI\n",
    "\n",
    "def add_espaco(texto):\n",
    "    return ''.join(' ' + char if is_emoji(char) else char for char in texto).strip()\n",
    "\n",
    "\n",
    "#------------------------------------------------ Aplicando nos dataframes ----------------------------------------------------\n",
    "# Para o Treinamento:\n",
    "resultado = [limpeza(texto) for texto in Treinamento.Treinamento]    # Aplicando a limpeza de caracteres\n",
    "Treinamento.Treinamento = resultado\n",
    "resultado = [add_espaco(texto) for texto in Treinamento.Treinamento] # Aplicando espaçamento entre emojis\n",
    "Treinamento.Treinamento = resultado\n",
    "\n",
    "\n",
    "# Para o Teste:\n",
    "resultado = [limpeza(texto) for texto in Teste.Teste]    # Aplicando a limpeza de caracteres\n",
    "Teste.Teste = resultado\n",
    "resultado = [add_espaco(texto) for texto in Teste.Teste] # Aplicando espaçamento entre emojis\n",
    "Teste.Teste = resultado\n",
    "\n",
    "\n",
    "#Treinamento.head()  # debug"
   ]
  },
  {
   "cell_type": "markdown",
   "metadata": {},
   "source": [
    "#### 3) Contagem de palavras:"
   ]
  },
  {
   "cell_type": "code",
   "execution_count": 25,
   "metadata": {},
   "outputs": [],
   "source": [
    "#==================================================== Frases em Lista =========================================================\n",
    "## Listas gerais:\n",
    "Lista_Treinamento = list(Treinamento.Treinamento)\n",
    "Lista_Teste = list(Teste.Teste)\n",
    "\n",
    "\n",
    "## Listas de relevância para Treinamento:\n",
    "# Lista Relevante:\n",
    "filtro_relevante = Treinamento.loc[Treinamento.Relevância == 'Relevante',:]\n",
    "Lista_Treinamento_Relevante = list(filtro_relevante.Treinamento)\n",
    "\n",
    "# Lista Irrelevante:\n",
    "filtro_irrelevante = Treinamento.loc[Treinamento.Relevância == 'Irrelevante',:]\n",
    "Lista_Treinamento_Irrelevante = list(filtro_irrelevante.Treinamento)\n",
    "\n",
    "\n",
    "#print(Lista_Treinamento_Relevante)  # debug\n",
    "\n",
    "\n",
    "#================================================= Separando por Palavra ======================================================\n",
    "## Função para separar:\n",
    "def por_palavra(LISTA):\n",
    "    lista_palavras = []\n",
    "    for linha in LISTA:\n",
    "        nova_linha = linha.split()\n",
    "        for palavra in nova_linha:\n",
    "            lista_palavras.append(palavra)\n",
    "    return lista_palavras\n",
    "\n",
    "#------------------------------------------------------- Aplicando ------------------------------------------------------------\n",
    "## Listas por palavra:\n",
    "# Listas Gerais:\n",
    "Palavras_Treinamento = por_palavra(Lista_Treinamento)\n",
    "Palavras_Teste = por_palavra(Lista_Teste)\n",
    "\n",
    "## Listas de relevância para Treinamento:\n",
    "Palavras_Treinamento_Relevante = por_palavra(Lista_Treinamento_Relevante)\n",
    "Palavras_Treinamento_Irrelevante = por_palavra(Lista_Treinamento_Irrelevante)\n",
    "\n",
    "\n",
    "#print(Palavras_Treinamento_Irrelevante)  # debug\n",
    "\n",
    "\n",
    "#============================================ Guardando palavras sem repetição ================================================\n",
    "## Somente para as Listas Gerais (será usado mais tarde):\n",
    "# Função:\n",
    "def tira_repeticao(LISTA):\n",
    "    sem_repeticao = []\n",
    "    for palavra in LISTA:\n",
    "        if not palavra in sem_repeticao:\n",
    "            sem_repeticao.append(palavra)\n",
    "    return sem_repeticao\n",
    "\n",
    "#------------------------------------------------------- Aplicando ------------------------------------------------------------\n",
    "Palavras_Treinamento_SR = tira_repeticao(Palavras_Treinamento)\n",
    "Palavras_Teste_SR = tira_repeticao(Palavras_Teste)\n",
    "\n",
    "\n",
    "#================================================== Contagem de palavras ======================================================\n",
    "# Gerando as Tabelas Relativa(TR) das listas de palavras:\n",
    "TR_Treinamento = pd.Series(Palavras_Treinamento).value_counts()\n",
    "TR_Treinamento_Relevante = pd.Series(Palavras_Treinamento_Relevante).value_counts()\n",
    "TR_Treinamento_Irrelevante = pd.Series(Palavras_Treinamento_Irrelevante).value_counts()\n",
    "\n",
    "\n",
    "#TR_Treinamento_Irrelevante.head()  # debug"
   ]
  },
  {
   "cell_type": "markdown",
   "metadata": {},
   "source": [
    "#### 4) Probabilidade de ocorrência:\n",
    "\n",
    "Agora, serão criadas as probabilidades de ocorrência das palavras em cada categoria, que serão guardadas em um dicionário onde a chave é a palavra e o item a probabilidade de ocorrência na categoria."
   ]
  },
  {
   "cell_type": "code",
   "execution_count": 21,
   "metadata": {},
   "outputs": [],
   "source": [
    "#=============================================== Probabilidade primária(PP) ===================================================\n",
    "## Probabilidade da mensagem ser relevante ou irrelevante com base no treinamento:\n",
    "PP_Treinamento_Relevante = len(Treinamento_relevante)/len(Treinamento)\n",
    "PP_Treinamento_Irrelevante = len(Treinamento_irrelevante)/len(Treinamento)\n",
    "\n",
    "\n",
    "#===================================== Dicionário de Probabilidade de ocorrência(DP) ==========================================\n",
    "## Aplicando o smothing de Laplace de índice 1:\n",
    "Laplace = 1\n",
    "\n",
    "## Função de cálculo da probabilidade:\n",
    "def probabilidade_ocorrencia(TABELA,PALAVRAS):\n",
    "    \n",
    "    # Transforando a tabela de ocorrências em um dicionário\n",
    "    dicionario_ocorrencias = {}\n",
    "    for palavra, ocorrencia in TABELA.items():\n",
    "        dicionario_ocorrencias[palavra] = ocorrencia\n",
    "       \n",
    "    # Criando o dicionário de probabilidades(DP):\n",
    "    dicionario_probabilidades = {}\n",
    "    for palavra in Palavras_Treinamento_SR:\n",
    "        if palavra in PALAVRAS:\n",
    "            probabilidade = (dicionario_ocorrencias[palavra]+Laplace)/(len(TR_Treinamento)+(Laplace*len(Palavras_Treinamento_SR)))\n",
    "            dicionario_probabilidades[palavra] = probabilidade\n",
    "        else:\n",
    "            probabilidade = Laplace/(len(TR_Treinamento)+(Laplace*len(Palavras_Treinamento_SR)))\n",
    "            dicionario_probabilidades[palavra] = probabilidade\n",
    "    return dicionario_probabilidades\n",
    "\n",
    "\n",
    "#------------------------------------------------------- Aplicando ------------------------------------------------------------\n",
    "DP_Treinamento_Relevante = probabilidade_ocorrencia(TR_Treinamento_Relevante, Palavras_Treinamento_Relevante)\n",
    "DP_Treinamento_Irrelevante = probabilidade_ocorrencia(TR_Treinamento_Irrelevante, Palavras_Treinamento_Irrelevante)\n",
    "\n",
    "#print(DP_Treinamento_Relevante)  # debug"
   ]
  },
  {
   "cell_type": "markdown",
   "metadata": {},
   "source": [
    "#### 5) Função do Classificador Naive Bayes:\n",
    "\n",
    "Com o dicionário de probabilidades criado, podemos criar o classificador Naive Bayes para análise dos Tweets:"
   ]
  },
  {
   "cell_type": "code",
   "execution_count": 26,
   "metadata": {},
   "outputs": [],
   "source": [
    "#=============================================== Classificador Naive Bayes ====================================================\n",
    "## O classificador vai receber um Excel com os tweets numa coluna chamada Teste:\n",
    "def classificador_Naive_Bayes(EXCEL):\n",
    "    LISTA = list(EXCEL.Teste)\n",
    "    for tweet in LISTA:\n",
    "        # começa com a probabilidade do tweet ser Relevante ou Irrelevante\n",
    "        probabilidade_relevante = PP_Treinamento_Relevante\n",
    "        probabilidade_irrelevante = PP_Treinamento_Irrelevante\n",
    "        # para a probabilidade de cada palavra do tweet nas categorias e aplicando Laplace:\n",
    "        for palavra in tweet.split():\n",
    "            if palavra in Palavras_Treinamento_SR:\n",
    "                probabilidade_relevante *= DP_Treinamento_Relevante[palavra]\n",
    "                probabilidade_irrelevante *= DP_Treinamento_Irrelevante[palavra]\n",
    "            else:\n",
    "                probabilidade_relevante *= Laplace/(len(TR_Treinamento)+(Laplace*len(Palavras_Treinamento_SR)))\n",
    "                probabilidade_irrelevante *= Laplace/(len(TR_Treinamento)+(Laplace*len(Palavras_Treinamento_SR)))\n",
    "            \n",
    "        if(probabilidade_relevante > probabilidade_irrelevante):\n",
    "            EXCEL.loc[(EXCEL.Teste == tweet), 'Naive_Bayes'] = 'Relevante'\n",
    "            ## debug\n",
    "            #print('relevante: {0},  irrelevante{1}, RELEVANTE'.format(probabilidade_relevante,probabilidade_irrelevante)) \n",
    "        elif(probabilidade_relevante < probabilidade_irrelevante):\n",
    "            EXCEL.loc[(EXCEL.Teste == tweet), 'Naive_Bayes'] = 'Irrelevante'\n",
    "            ## debug\n",
    "            #print('relevante: {0},  irrelevante{1}, IRRELEVANTE'.format(probabilidade_relevante,probabilidade_irrelevante))\n",
    "            \n",
    "    return EXCEL\n"
   ]
  },
  {
   "cell_type": "markdown",
   "metadata": {},
   "source": [
    "___\n",
    "### Verificando a performance do Classificador\n",
    "\n",
    "Agora você deve testar o seu classificador com a base de Testes."
   ]
  },
  {
   "cell_type": "code",
   "execution_count": 27,
   "metadata": {},
   "outputs": [
    {
     "name": "stdout",
     "output_type": "stream",
     "text": [
      "Número de relevantes: 3\n",
      "Número de irrelevantes: 116\n"
     ]
    },
    {
     "data": {
      "text/html": [
       "<div>\n",
       "<style scoped>\n",
       "    .dataframe tbody tr th:only-of-type {\n",
       "        vertical-align: middle;\n",
       "    }\n",
       "\n",
       "    .dataframe tbody tr th {\n",
       "        vertical-align: top;\n",
       "    }\n",
       "\n",
       "    .dataframe thead th {\n",
       "        text-align: right;\n",
       "    }\n",
       "</style>\n",
       "<table border=\"1\" class=\"dataframe\">\n",
       "  <thead>\n",
       "    <tr style=\"text-align: right;\">\n",
       "      <th></th>\n",
       "      <th>Teste</th>\n",
       "      <th>Relevância</th>\n",
       "      <th>Naive_Bayes</th>\n",
       "    </tr>\n",
       "  </thead>\n",
       "  <tbody>\n",
       "    <tr>\n",
       "      <th>0</th>\n",
       "      <td>rt @nintendoblast  nintendo switch é o console...</td>\n",
       "      <td>Relevante</td>\n",
       "      <td>Irrelevante</td>\n",
       "    </tr>\n",
       "    <tr>\n",
       "      <th>1</th>\n",
       "      <td>tô pensando real em me desfazer de um rim pra ...</td>\n",
       "      <td>Relevante</td>\n",
       "      <td>Irrelevante</td>\n",
       "    </tr>\n",
       "    <tr>\n",
       "      <th>2</th>\n",
       "      <td>o melhor jogo do nintendo switch e possivelmen...</td>\n",
       "      <td>Irrelevante</td>\n",
       "      <td>Irrelevante</td>\n",
       "    </tr>\n",
       "    <tr>\n",
       "      <th>3</th>\n",
       "      <td>um nintendo switch galerinha</td>\n",
       "      <td>Irrelevante</td>\n",
       "      <td>Irrelevante</td>\n",
       "    </tr>\n",
       "    <tr>\n",
       "      <th>4</th>\n",
       "      <td>@askeladdn mas eu ouvi falar que esse jogo é t...</td>\n",
       "      <td>Irrelevante</td>\n",
       "      <td>Irrelevante</td>\n",
       "    </tr>\n",
       "    <tr>\n",
       "      <th>...</th>\n",
       "      <td>...</td>\n",
       "      <td>...</td>\n",
       "      <td>...</td>\n",
       "    </tr>\n",
       "    <tr>\n",
       "      <th>114</th>\n",
       "      <td>rt @switchbrasilcom  super mario 3d all stars ...</td>\n",
       "      <td>Irrelevante</td>\n",
       "      <td>Irrelevante</td>\n",
       "    </tr>\n",
       "    <tr>\n",
       "      <th>115</th>\n",
       "      <td>a preguiça da nintendo acabou virando backdoor...</td>\n",
       "      <td>Irrelevante</td>\n",
       "      <td>Irrelevante</td>\n",
       "    </tr>\n",
       "    <tr>\n",
       "      <th>116</th>\n",
       "      <td>rt @nintendosbrasil  é do brasiiil   🎊 🎉 🇧 🇷 a...</td>\n",
       "      <td>Relevante</td>\n",
       "      <td>Irrelevante</td>\n",
       "    </tr>\n",
       "    <tr>\n",
       "      <th>117</th>\n",
       "      <td>nintendo acaba de regalar emuladores para swit...</td>\n",
       "      <td>Irrelevante</td>\n",
       "      <td>Irrelevante</td>\n",
       "    </tr>\n",
       "    <tr>\n",
       "      <th>118</th>\n",
       "      <td>@fnstatusbr aproveita e voltem com o modo noca...</td>\n",
       "      <td>Irrelevante</td>\n",
       "      <td>Irrelevante</td>\n",
       "    </tr>\n",
       "  </tbody>\n",
       "</table>\n",
       "<p>119 rows × 3 columns</p>\n",
       "</div>"
      ],
      "text/plain": [
       "                                                 Teste   Relevância  \\\n",
       "0    rt @nintendoblast  nintendo switch é o console...    Relevante   \n",
       "1    tô pensando real em me desfazer de um rim pra ...    Relevante   \n",
       "2    o melhor jogo do nintendo switch e possivelmen...  Irrelevante   \n",
       "3                         um nintendo switch galerinha  Irrelevante   \n",
       "4    @askeladdn mas eu ouvi falar que esse jogo é t...  Irrelevante   \n",
       "..                                                 ...          ...   \n",
       "114  rt @switchbrasilcom  super mario 3d all stars ...  Irrelevante   \n",
       "115  a preguiça da nintendo acabou virando backdoor...  Irrelevante   \n",
       "116  rt @nintendosbrasil  é do brasiiil   🎊 🎉 🇧 🇷 a...    Relevante   \n",
       "117  nintendo acaba de regalar emuladores para swit...  Irrelevante   \n",
       "118  @fnstatusbr aproveita e voltem com o modo noca...  Irrelevante   \n",
       "\n",
       "     Naive_Bayes  \n",
       "0    Irrelevante  \n",
       "1    Irrelevante  \n",
       "2    Irrelevante  \n",
       "3    Irrelevante  \n",
       "4    Irrelevante  \n",
       "..           ...  \n",
       "114  Irrelevante  \n",
       "115  Irrelevante  \n",
       "116  Irrelevante  \n",
       "117  Irrelevante  \n",
       "118  Irrelevante  \n",
       "\n",
       "[119 rows x 3 columns]"
      ]
     },
     "execution_count": 27,
     "metadata": {},
     "output_type": "execute_result"
    }
   ],
   "source": [
    "#----------------------------------------------- Aplicando o classificador ----------------------------------------------------\n",
    "\n",
    "Teste_Classificado = classificador_Naive_Bayes(Teste)\n",
    "\n",
    "Teste_relevante = Teste_Classificado[Teste.Naive_Bayes=='Relevante']\n",
    "Teste_irrelevante = Teste_Classificado[Teste.Naive_Bayes=='Irrelevante']\n",
    "print('Número de relevantes: {0}\\nNúmero de irrelevantes: {1}'.format(len(Teste_relevante),len(Teste_irrelevante)))\n",
    "\n",
    "Teste_Classificado"
   ]
  },
  {
   "cell_type": "code",
   "execution_count": null,
   "metadata": {},
   "outputs": [],
   "source": []
  },
  {
   "cell_type": "code",
   "execution_count": null,
   "metadata": {},
   "outputs": [],
   "source": []
  },
  {
   "cell_type": "markdown",
   "metadata": {},
   "source": [
    "___\n",
    "### Concluindo"
   ]
  },
  {
   "cell_type": "code",
   "execution_count": null,
   "metadata": {},
   "outputs": [],
   "source": []
  },
  {
   "cell_type": "code",
   "execution_count": null,
   "metadata": {},
   "outputs": [],
   "source": []
  },
  {
   "cell_type": "markdown",
   "metadata": {},
   "source": [
    "___\n",
    "## Aperfeiçoamento:\n",
    "\n",
    "Os trabalhos vão evoluir em conceito dependendo da quantidade de itens avançados:\n",
    "\n",
    "* Limpar: \\n, :, \", ', (, ), etc SEM remover emojis\n",
    "* Corrigir separação de espaços entre palavras e emojis ou entre emojis e emojis\n",
    "* Propor outras limpezas e transformações que não afetem a qualidade da informação ou classificação\n",
    "* Criar categorias intermediárias de relevância baseadas na probabilidade: ex.: muito relevante, relevante, neutro, irrelevante, muito irrelevante (3 categorias: C, mais categorias conta para B)\n",
    "* Explicar por que não posso usar o próprio classificador para gerar mais amostras de treinamento\n",
    "* Propor diferentes cenários para Naïve Bayes fora do contexto do projeto\n",
    "* Sugerir e explicar melhorias reais com indicações concretas de como implementar (indicar como fazer e indicar material de pesquisa)\n",
    "* Montar um dashboard que realiza análise de sentimento e visualiza estes dados"
   ]
  },
  {
   "cell_type": "markdown",
   "metadata": {},
   "source": [
    "___\n",
    "## Referências"
   ]
  },
  {
   "cell_type": "markdown",
   "metadata": {},
   "source": [
    "[Naive Bayes and Text Classification](https://arxiv.org/pdf/1410.5329.pdf)  **Mais completo**\n",
    "\n",
    "[A practical explanation of a Naive Bayes Classifier](https://monkeylearn.com/blog/practical-explanation-naive-bayes-classifier/) **Mais simples**"
   ]
  },
  {
   "cell_type": "code",
   "execution_count": null,
   "metadata": {},
   "outputs": [],
   "source": []
  }
 ],
 "metadata": {
  "kernelspec": {
   "display_name": "Python 3",
   "language": "python",
   "name": "python3"
  },
  "language_info": {
   "codemirror_mode": {
    "name": "ipython",
    "version": 3
   },
   "file_extension": ".py",
   "mimetype": "text/x-python",
   "name": "python",
   "nbconvert_exporter": "python",
   "pygments_lexer": "ipython3",
   "version": "3.7.4"
  }
 },
 "nbformat": 4,
 "nbformat_minor": 4
}
